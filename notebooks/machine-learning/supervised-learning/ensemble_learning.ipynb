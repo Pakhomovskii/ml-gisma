{
 "cells": [
  {
   "cell_type": "markdown",
   "metadata": {},
   "source": [
    "# Ensemble Learning\n",
    "You should build a machine learning pipeline using an ensemble learning model. In particular, you should do the following:\n",
    "- Load the `mnist` dataset using [Pandas](https://pandas.pydata.org/docs/reference/api/pandas.read_csv.html). You can find this dataset in the datasets folder.\n",
    "- Split the dataset into training and test sets using [Scikit-Learn](https://scikit-learn.org/stable/modules/generated/sklearn.model_selection.train_test_split.html). \n",
    "- Conduct data exploration, data preprocessing, and feature engineering if necessary. \n",
    "- Train and test an ensemble learning model, such as [random forest](https://scikit-learn.org/stable/modules/generated/sklearn.ensemble.RandomForestClassifier.html) or [gradient boosting](https://scikit-learn.org/stable/modules/generated/sklearn.ensemble.GradientBoostingClassifier.html).\n",
    "- Check the documentation to identify the most important hyperparameters, attributes, and methods of the model. Use them in practice."
   ],
   "id": "41d7855987db6c9c"
  },
  {
   "metadata": {
    "jupyter": {
     "is_executing": true
    }
   },
   "cell_type": "code",
   "source": [
    "import pandas as pd\n",
    "from sklearn.ensemble import RandomForestClassifier\n",
    "from sklearn.ensemble import GradientBoostingClassifier\n",
    "from sklearn.model_selection import KFold\n",
    "from sklearn.model_selection import RandomizedSearchCV\n",
    "from sklearn.feature_selection import SelectKBest, f_classif\n",
    "from sklearn.model_selection import train_test_split\n",
    "\n",
    "\n"
   ],
   "id": "e47314426dbcb15f",
   "outputs": [],
   "execution_count": null
  },
  {
   "metadata": {
    "jupyter": {
     "is_executing": true
    }
   },
   "cell_type": "code",
   "source": [
    "file_path = '/Users/pahomovskij/PycharmProjects/ml-gisma/datasets/mnist.csv'\n",
    "mnist = pd.read_csv(file_path)\n"
   ],
   "id": "37a0a76d5e6ca580",
   "outputs": [],
   "execution_count": null
  },
  {
   "metadata": {
    "jupyter": {
     "is_executing": true
    }
   },
   "cell_type": "code",
   "source": [
    "\n",
    "\n",
    "X = mnist.drop(['class', 'id'], axis=1)\n",
    "y = mnist['class'] \n",
    "\n",
    "\n",
    "X_train, X_test, y_train, y_test = train_test_split(X, y, test_size=0.2, random_state=42)\n",
    "\n",
    "selector = SelectKBest(f_classif, k=10)  \n",
    "X_train_selected = selector.fit_transform(X_train, y_train)\n",
    "\n",
    "\n",
    "X_test_selected = selector.transform(X_test) \n",
    "\n",
    "print(f\"Training set size: {X_train_selected.shape[0]} samples\")\n",
    "print(f\"Test set size: {X_test_selected.shape[0]} samples\")\n"
   ],
   "id": "4b2b7f3fd399ba66",
   "outputs": [],
   "execution_count": null
  },
  {
   "metadata": {
    "jupyter": {
     "is_executing": true
    }
   },
   "cell_type": "code",
   "source": [
    "\n",
    "models = {\n",
    "    \"Random Forest\": RandomForestClassifier(random_state=42),\n",
    "    \"Gradient Boosting\": GradientBoostingClassifier(random_state=42),\n",
    "}\n",
    "\n",
    "param_distributions = {\n",
    "    \"Random Forest\": {\n",
    "        \"n_estimators\": [50, 100, 200],  \n",
    "        \"max_depth\": [None, 10, 20, 30], \n",
    "    },\n",
    "    \"Gradient Boosting\": {\n",
    "        \"n_estimators\": [50, 100, 200],  \n",
    "        \"learning_rate\": [0.01, 0.1, 0.2], \n",
    "        \"max_depth\": [3, 5, 7],          \n",
    "    },\n",
    "}\n",
    "\n",
    "cv = KFold(n_splits=5, shuffle=True, random_state=42) \n",
    "\n",
    "results = []\n",
    "for name, model in models.items():\n",
    "    randomized_search = RandomizedSearchCV(\n",
    "        estimator=model,\n",
    "        param_distributions=param_distributions[name],\n",
    "        n_iter=12,\n",
    "        cv=cv,\n",
    "        n_jobs=-1,\n",
    "        random_state=42,\n",
    "\n",
    "    ).fit(X_train, y_train)\n",
    "    \n",
    "    results.append(\n",
    "        {\n",
    "            \"model\": name,\n",
    "            \"best_params\": randomized_search.best_params_,\n",
    "            \"best_score\": randomized_search.best_score_,\n",
    "        }\n",
    "    )\n",
    "\n",
    "\n",
    "for result in results:\n",
    "    print(f\"Model: {result['model']}\")\n",
    "    print(f\"Best Params: {result['best_params']}\")\n",
    "    print(f\"Best CV Score: {result['best_score']}\\n\")"
   ],
   "id": "719ad7f87f588028",
   "outputs": [],
   "execution_count": null
  },
  {
   "metadata": {
    "jupyter": {
     "is_executing": true
    }
   },
   "cell_type": "code",
   "source": "",
   "id": "d625945e538c785f",
   "outputs": [],
   "execution_count": null
  }
 ],
 "metadata": {
  "kernelspec": {
   "display_name": "Python 3",
   "language": "python",
   "name": "python3"
  },
  "language_info": {
   "codemirror_mode": {
    "name": "ipython",
    "version": 3
   },
   "file_extension": ".py",
   "mimetype": "text/x-python",
   "name": "python",
   "nbconvert_exporter": "python",
   "pygments_lexer": "ipython3",
   "version": "3.8.5"
  }
 },
 "nbformat": 4,
 "nbformat_minor": 5
}
